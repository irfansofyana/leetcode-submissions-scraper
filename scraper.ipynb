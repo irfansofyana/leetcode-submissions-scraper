{
 "cells": [
  {
   "cell_type": "markdown",
   "metadata": {},
   "source": [
    "# Import Library\n",
    "\n",
    "- `selenium` for Browser Automation\n",
    "- `bs4` for parse the HTML page\n",
    "- `dotenv` to read env variable"
   ]
  },
  {
   "cell_type": "code",
   "execution_count": 112,
   "metadata": {},
   "outputs": [],
   "source": [
    "from selenium import webdriver\n",
    "from bs4 import BeautifulSoup\n",
    "import os\n",
    "import time\n",
    "from dotenv import load_dotenv\n",
    "from selenium.webdriver.support.ui import WebDriverWait\n",
    "from selenium.webdriver.support import expected_conditions as EC\n",
    "from selenium.webdriver.common.by import By"
   ]
  },
  {
   "cell_type": "code",
   "execution_count": 113,
   "metadata": {},
   "outputs": [],
   "source": [
    "def load_env():\n",
    "    load_dotenv()\n",
    "    account_username = os.getenv('LEETCODE_USERNAME')\n",
    "    account_password = os.getenv('LEETCODE_PASSWORD')\n",
    "\n",
    "    return {\n",
    "        'username': account_username,\n",
    "        'password': account_password,\n",
    "    }\n",
    "    \n",
    "env_var = load_env()"
   ]
  },
  {
   "cell_type": "markdown",
   "metadata": {},
   "source": [
    "# Go to Login Page"
   ]
  },
  {
   "cell_type": "code",
   "execution_count": 114,
   "metadata": {},
   "outputs": [],
   "source": [
    "driver = webdriver.Firefox(executable_path=\"./geckodriver.exe\")\n",
    "\n",
    "driver.get('https://leetcode.com/accounts/login/')\n",
    "try:\n",
    "    element = WebDriverWait(driver, 20).until(\n",
    "        EC.presence_of_element_located((By.CSS_SELECTOR, \"#id_login\"))\n",
    "    )\n",
    "except Exception as err:\n",
    "    print(\"Error: \", err)"
   ]
  },
  {
   "cell_type": "markdown",
   "metadata": {},
   "source": [
    "# Fill Username and Password"
   ]
  },
  {
   "cell_type": "code",
   "execution_count": 115,
   "metadata": {},
   "outputs": [],
   "source": [
    "username = driver.find_element_by_css_selector('#id_login')\n",
    "username.send_keys(env_var['username'])\n",
    "password = driver.find_element_by_css_selector('#id_password')\n",
    "password.send_keys(env_var['password'])"
   ]
  },
  {
   "cell_type": "markdown",
   "metadata": {},
   "source": [
    "# Click Login Button"
   ]
  },
  {
   "cell_type": "code",
   "execution_count": 116,
   "metadata": {},
   "outputs": [],
   "source": [
    "time.sleep(10)\n",
    "login_button = driver.find_element_by_css_selector('.btn-content-container__2HVS')\n",
    "login_button.click()\n",
    "time.sleep(10)"
   ]
  },
  {
   "cell_type": "markdown",
   "metadata": {},
   "source": [
    "# Find All Accepted Submissions"
   ]
  },
  {
   "cell_type": "code",
   "execution_count": null,
   "metadata": {},
   "outputs": [],
   "source": [
    "def find_accepted_submissions_link(table):\n",
    "    rows = table.find_all('tr')\n",
    "    submissions_link = []\n",
    "\n",
    "    for row in rows:\n",
    "        tds = row.find_all('td')\n",
    "        if len(tds) == 0:\n",
    "            continue\n",
    "        \n",
    "        submission_status = tds[2]\n",
    "        is_accepted = submission_status.get_text() == \"Accepted\"\n",
    "        submission_link = submission_status.find('a', href=True)\n",
    "\n",
    "        if is_accepted:\n",
    "            submissions_link.append(\"https://leetcode.com\" + submission_link['href'])\n",
    "    \n",
    "    return submissions_link\n",
    "\n",
    "accepted_submissions_link = []\n",
    "page_num = 1   \n",
    "while True:\n",
    "    driver.get(f\"https://leetcode.com/submissions/#/{page_num}\")\n",
    "    time.sleep(10)\n",
    "\n",
    "    page = driver.page_source\n",
    "    soup = BeautifulSoup(page, 'html.parser')\n",
    "    if soup.find_all(text=\"No more submissions.\"):\n",
    "        break\n",
    "    \n",
    "    table = soup.find(id=\"submission-list-app\").find_next(\"table\")\n",
    "    accepted_submissions_link += find_accepted_submissions_link(table)\n",
    "\n",
    "    page_num += 1"
   ]
  },
  {
   "cell_type": "markdown",
   "metadata": {},
   "source": [
    "# Save Accepted Submissions Link"
   ]
  },
  {
   "cell_type": "code",
   "execution_count": 122,
   "metadata": {},
   "outputs": [],
   "source": [
    "with open(\"ac_submission_link.txt\", \"w\") as f:\n",
    "    for ac in accepted_submissions_link:\n",
    "        f.write(f\"{ac}\\n\")"
   ]
  },
  {
   "cell_type": "markdown",
   "metadata": {},
   "source": [
    "# Parse Submission Data"
   ]
  },
  {
   "cell_type": "code",
   "execution_count": null,
   "metadata": {},
   "outputs": [],
   "source": [
    "def parse_submission_data(page):\n",
    "    soup = BeautifulSoup(page, 'html.parser')\n",
    "    codes = soup.find(\"div\", {\"class\": \"ace_content\"})\n",
    "\n",
    "    first = True\n",
    "    text_codes = []\n",
    "    for child in codes.find_all(\"div\"):\n",
    "        if first and child.get_text()!= \"\":\n",
    "            first = False\n",
    "            continue\n",
    "        if len(text_codes) > 0 and child.get_text() == text_codes[len(text_codes)-1]:\n",
    "            continue\n",
    "        text_codes.append(child.get_text())\n",
    "\n",
    "    plain_text_code = '\\n'.join(text_codes)\n",
    "    language = soup.find(id=\"result_language\").text\n",
    "    return {\n",
    "        'language': language,\n",
    "        'plain_text_code': plain_text_code\n",
    "    }\n",
    "\n",
    "submissions_data = {}\n",
    "for link in accepted_submissions_link:\n",
    "    driver.get(link)\n",
    "    time.sleep(10)\n",
    "\n",
    "    problem_name = driver.title\n",
    "    page = driver.page_source\n",
    "    submission_data = parse_submission_data(page)\n",
    "    if problem_name not in submissions_data:\n",
    "        submissions_data[problem_name] = [submission_data]\n",
    "    else:\n",
    "        submissions_data[problem_name].append(submission_data)\n",
    "\n",
    "print(submissions_data)"
   ]
  },
  {
   "cell_type": "markdown",
   "metadata": {},
   "source": [
    "# Save Submissions Data"
   ]
  },
  {
   "cell_type": "code",
   "execution_count": 152,
   "metadata": {},
   "outputs": [],
   "source": [
    "import json\n",
    "\n",
    "with open(\"submissions_data.json\", \"w\") as f:\n",
    "    json.dump(submissions_data, f)"
   ]
  }
 ],
 "metadata": {
  "interpreter": {
   "hash": "0d243b50575b622ba23b9a21ff96cb02be80831e0737edde549ab463f4defc42"
  },
  "kernelspec": {
   "display_name": "Python 3.8.10 64-bit (windows store)",
   "language": "python",
   "name": "python3"
  },
  "language_info": {
   "codemirror_mode": {
    "name": "ipython",
    "version": 3
   },
   "file_extension": ".py",
   "mimetype": "text/x-python",
   "name": "python",
   "nbconvert_exporter": "python",
   "pygments_lexer": "ipython3",
   "version": "3.8.10"
  },
  "orig_nbformat": 4
 },
 "nbformat": 4,
 "nbformat_minor": 2
}
